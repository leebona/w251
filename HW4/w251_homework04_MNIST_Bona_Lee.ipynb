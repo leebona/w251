{
 "cells": [
  {
   "cell_type": "markdown",
   "metadata": {},
   "source": [
    "**2. ConvnetJS MNIST demo**\n",
    "\n",
    "In this lab, we will look at the processing of the MNIST data set using ConvnetJS. This demo uses this page: http://cs.stanford.edu/people/karpathy/convnetjs/demo/mnist.html The MNIST data set consists of 28x28 black and white images of hand written digits and the goal is to correctly classify them. Once you load the page, the network starts running and you can see the loss and predictions change in real time. Try the following:\n",
    "\n",
    "- Name all the layers in the network, make sure you understand what they do.\n",
    "    1. **Input layer**: It holds the raw pixel values of the image.\n",
    "    2. **2 pairs of Convolutional/ReLU layer and Pooling layer**:\n",
    "        - **Convolutional/ReLU layer**: Its function is to extract the high-level features such as edges, from the input image.\n",
    "        - **Pooling layer**: Its function is to progressively reduce the spatial size of the representation to reduce the amount of parameters and computation in the network, and hence to also control overfitting. It is useful for extracting dominant features which are rotational and positional invariant, thus maintaining the process of effectively training of the model.\n",
    "    3. **Fully-Connected layer**: Its function is to learn non-linear combinations of the high-level features as represented by the output of the previous layer. It classifies the image using the Softmax Classification technique.\n",
    "- Experiment with the number and size of filters in each layer. Does it improve the accuracy?\n",
    "    - Smaller filter sizes result in a higher accuracy because with smaller filter sizes, highly local features are extracted without much image overview; therefore, it captures the basic components in the image. Also, slow reduction in the image dimension can make the network deep.\n",
    "- Remove the pooling layers. Does it impact the accuracy?\n",
    "    - I expected that pooling layer removal would result in a high training accuracy and a low validation accuracy but didn't observe any significant change in the accuracy after removing the pooling layers. However, removing the pooling layers increased the time it takes to train and validate the same amount of data, compared to having the pooling layers.\n",
    "- Add one more conv layer. Does it help with accuracy?\n",
    "    - With a small number examples, training accuracy tended to be high, and validation accuracy tended to be low. In other words, it resulted in overfitting. However, as the number of examples seen increased, these numbers were flipped - training accuracy being lower than validation accuracy.\n",
    "- Increase the batch size. What impact does it have?\n",
    "    - Large batch size resulted in very large gradient updates and very small gradient updates. The size of the update depends heavily on which particular samples are drawn from the dataset. On the other hand, using small batch size had almost constant updates.\n",
    "- What is the best accuracy you can achieve? Are you over 99%? 99.5%?\n",
    "    - An increase in the size of dataset (examples seen) increased the training accuracy to about 0.98 and the validation accuracy to about 0.95."
   ]
  }
 ],
 "metadata": {
  "kernelspec": {
   "display_name": "Python 3",
   "language": "python",
   "name": "python3"
  },
  "language_info": {
   "codemirror_mode": {
    "name": "ipython",
    "version": 3
   },
   "file_extension": ".py",
   "mimetype": "text/x-python",
   "name": "python",
   "nbconvert_exporter": "python",
   "pygments_lexer": "ipython3",
   "version": "3.7.4"
  }
 },
 "nbformat": 4,
 "nbformat_minor": 2
}
